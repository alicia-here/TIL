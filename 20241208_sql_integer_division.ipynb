{
 "cells": [
  {
   "cell_type": "markdown",
   "metadata": {},
   "source": [
    "## **📘정수 나눗셈의 개념(Integer Division)**\n",
    "* **정수 나눗셈**이란, 두 개의 정수를 나눌 때 소수부(소수점 이하)를 버리고 정수 부분만 남기는 연산을 의미함.               \n",
    "                    \n",
    "* 예를 들어,                       \n",
    " `5 / 2 = 2` (소수부 0.5가 버려짐)                       \n",
    " `7 / 3 = 2` (소수부 0.333...이 버려짐)               \n",
    "\n",
    "* 이 현상은 C, C++, Java, Python의 기본 정수 연산에서도 자주 발생하며, SQL에서도 동일한 방식으로 동작함. \n",
    "\n",
    "## **💡소수 연산을 원하는 경우 해결 방법**\n",
    "* 소수 연산을 원하는 경우, 두 숫자 중 하나를 소수(실수)로 변환해야 함.           \n",
    "* SQL에서는 1.0, CAST(), DECIMAL() 등을 활용해 소수 연산을 강제할 수 있음. "
   ]
  },
  {
   "cell_type": "markdown",
   "metadata": {},
   "source": [
    "## **🔍예시**"
   ]
  },
  {
   "cell_type": "markdown",
   "metadata": {
    "vscode": {
     "languageId": "plaintext"
    }
   },
   "source": [
    "**📍문제 설명**                   \n",
    "students라는 테이블이 있습니다. 이 테이블에는 학교의 학생 정보가 담겨 있습니다. **각 학생의 평균 점수를 구하는 SQL 쿼리를 작성**하세요. 단, 평균 점수는 소수점 셋째 자리까지 표시해야 합니다.\n",
    "\n",
    "**📍컬럼 정보**                    \n",
    "  `id` (학생의 고유 번호)  \n",
    "                  \n",
    "  `name` (학생 이름)                    \n",
    "          \n",
    "  `total_score` (학생의 총점, 정수)                \n",
    "             \n",
    "  `test_count` (시험을 본 횟수, 정수)            \n"
   ]
  },
  {
   "cell_type": "markdown",
   "metadata": {},
   "source": [
    "### **1) 잘못된 쿼리**"
   ]
  },
  {
   "cell_type": "code",
   "execution_count": null,
   "metadata": {
    "vscode": {
     "languageId": "sql"
    }
   },
   "outputs": [],
   "source": [
    "SELECT \n",
    "  name, \n",
    "  ROUND(total_score / test_count, 3) AS avg_score\n",
    "FROM \n",
    "  students;"
   ]
  },
  {
   "cell_type": "markdown",
   "metadata": {},
   "source": [
    "**❌ 왜 문제가 발생할까?**\n",
    "* total_score와 test_count는 둘 다 정수 컬럼이므로, total_score / test_count는 정수 나눗셈이 발생\n",
    "* 정수 나눗셈이 발생하면 소수부가 잘려서 결과가 0, 1, 2 등의 정수로만 반환\n",
    "* 이후 ROUND()로 소수 셋째 자리까지 표시하더라도, 이미 소수부가 버려졌기 때문에 ROUND()는 의미가 없음"
   ]
  },
  {
   "cell_type": "markdown",
   "metadata": {},
   "source": [
    "### **2) 해결방법** \n",
    "정수 나눗셈을 소수 연산(실수 연산)으로 변경해야 함.              \n",
    "이 작업을 수행하는 방법은 3가지 방법이 있음.             "
   ]
  },
  {
   "cell_type": "markdown",
   "metadata": {},
   "source": [
    "**📘 방법 1: 1.0을 곱해서 소수로 변환**\n",
    "* test_count * 1.0을 통해 소수 연산을 강제\n",
    "* 이제 total_score / (test_count * 1.0)은 정수 나눗셈이 아니라 소수 연산으로 바뀜"
   ]
  },
  {
   "cell_type": "code",
   "execution_count": null,
   "metadata": {
    "vscode": {
     "languageId": "sql"
    }
   },
   "outputs": [],
   "source": [
    "SELECT \n",
    "  name, \n",
    "  ROUND(total_score / (test_count * 1.0), 3) AS avg_score\n",
    "FROM \n",
    "  students;"
   ]
  },
  {
   "cell_type": "markdown",
   "metadata": {},
   "source": [
    "**📘 방법 2: CAST로 정수 → 소수 변환**\n",
    "* CAST(test_count AS DECIMAL(10, 3))을 통해 test_count를 소수로 변환\n",
    "* 이렇게 하면 total_score가 소수와 나누어지기 때문에 소수 연산이 발생"
   ]
  },
  {
   "cell_type": "code",
   "execution_count": null,
   "metadata": {
    "vscode": {
     "languageId": "sql"
    }
   },
   "outputs": [],
   "source": [
    "SELECT \n",
    "  name, \n",
    "  ROUND(total_score / CAST(test_count AS DECIMAL(10, 3)), 3) AS avg_score\n",
    "FROM \n",
    "  students;"
   ]
  },
  {
   "cell_type": "markdown",
   "metadata": {},
   "source": [
    "**📘 방법 3: 소수 나눗셈을 강제 (1.0 / test_count)**\n",
    "* 추천하는 방법: 직관적이고 명확, 소수연산 강제하기 때문에 실수로 정수 나눗셈이 발생할 가능성이 없음(`CAST`도 그 자체로는 정수 나눗셈이 발생하지 않지만 연산 순서에 따라 정수 나눗셈이 발생할 수 있음.). \n",
    "* total_score * 1.0을 통해 소수 연산을 강제\n",
    "* total_score가 소수로 바뀌어 정수 나눗셈이 소수 연산으로 전환"
   ]
  },
  {
   "cell_type": "code",
   "execution_count": null,
   "metadata": {
    "vscode": {
     "languageId": "sql"
    }
   },
   "outputs": [],
   "source": [
    "SELECT \n",
    "  name, \n",
    "  ROUND(total_score * 1.0 / test_count, 3) AS avg_score\n",
    "FROM \n",
    "  students;"
   ]
  }
 ],
 "metadata": {
  "kernelspec": {
   "display_name": "Python 3",
   "language": "python",
   "name": "python3"
  },
  "language_info": {
   "codemirror_mode": {
    "name": "ipython",
    "version": 3
   },
   "file_extension": ".py",
   "mimetype": "text/x-python",
   "name": "python",
   "nbconvert_exporter": "python",
   "pygments_lexer": "ipython3",
   "version": "3.11.7"
  }
 },
 "nbformat": 4,
 "nbformat_minor": 2
}
